{
 "cells": [
  {
   "cell_type": "markdown",
   "id": "a9b499ab",
   "metadata": {},
   "source": [
    "## Introduction \n",
    "\n",
    "- This is a dataset that contains 13 columns (12 feature and 1 target feature) and 299 observations.\n",
    "- This dataset is a part of a study that worked in determining the implications of two specific features on a prediction model developed to predict heart failure.\n",
    "***\n",
    "- In my project, I will be working to *confirm the researcher's claims that serum creatinine and ejection fraction do a better job in model development and accuracy than the sum of all of the features.* This will be done in a python based model development which is different from the techniques used by the researchers. I will refer to these features as the \"ideal features.\"\n",
    "    - By confirming or denying I will be either fortifying the researcher's argument, or observe a significant drop in accuracy to counter the researcher's argument. In doing so I will also be testing the credibility of the python based regression and procession models.\n",
    "***\n",
    "- Additionally, through out the study the researchers themselves split the data features into Numerical and Categorical data points. I went a different route that split the datasets into **Invasive and Non-Invasive.**\n",
    "- To elaborate:\n",
    "    - *'Invasive'* would be any feature of the dataset that required some form of invasive procedure on the patient to be retrieved like: blood tests, sample testing, image scans, etc.\n",
    "    - *'Non-invasive'* would be something as simple as a Yes or No question or a blood pressure reading.\n",
    "***\n",
    "- In total it will be three main dataset/models I will be working with."
   ]
  },
  {
   "cell_type": "markdown",
   "id": "81e4871d",
   "metadata": {},
   "source": [
    "# In this Notebook (NB1):\n",
    "\n",
    "In this notebook we will be working **backwards** and starting on the Invasive and Non Invasive models.\n",
    "***\n",
    "- Interestingly, most of the features I consider to be 'Invasive' were classified as 'Numerical' by the researchers. However, I will be adding the categorical feature _Anaemia_ because the classification of this in the dataset was done through measurement of haematocrit levels in the blood most likely from a blood test.\n",
    "- Similarly, most of the features I consider to be 'Non-Invasive' were classified as 'Categorical' by the researchers. However, I will be adding the numerical features _Age and Time_ since they are number values but not retrieved by an invasive procedure. \n",
    "***\n",
    "**I am going against the researcher's data and I hypothesize that the Non Invasive models will perform better than the Invasive models, this is because with non continuous or non numeric values it is easier to identify patterns.**"
   ]
  },
  {
   "cell_type": "markdown",
   "id": "b861f671",
   "metadata": {},
   "source": [
    "### A. Loading Data"
   ]
  },
  {
   "cell_type": "code",
   "execution_count": 3,
   "id": "e110b132",
   "metadata": {},
   "outputs": [],
   "source": [
    "import numpy as np\n",
    "import matplotlib.pyplot as plt\n",
    "from sklearn import datasets\n",
    "from sklearn import svm, datasets\n",
    "from sklearn.svm import SVR\n",
    "from sklearn.linear_model import LogisticRegression, LogisticRegressionCV \n",
    "import sklearn\n",
    "from sklearn import linear_model\n",
    "from sklearn.model_selection import train_test_split \n",
    "import sklearn.preprocessing as preprocessing\n",
    "import pandas as pd\n",
    "from sklearn.metrics import plot_roc_curve,auc\n",
    "from sklearn.metrics import mean_squared_error, r2_score\n",
    "import warnings \n",
    "warnings.filterwarnings('ignore')"
   ]
  },
  {
   "cell_type": "code",
   "execution_count": 4,
   "id": "f5677ef6",
   "metadata": {},
   "outputs": [],
   "source": [
    "dataset1=pd.read_csv('heart_failure_dataset.csv') #Reading dataset"
   ]
  },
  {
   "cell_type": "code",
   "execution_count": 5,
   "id": "09856f52",
   "metadata": {},
   "outputs": [],
   "source": [
    "df = dataset1.copy() #Make a copy to work with"
   ]
  },
  {
   "cell_type": "code",
   "execution_count": 6,
   "id": "2b777220",
   "metadata": {},
   "outputs": [
    {
     "data": {
      "text/plain": [
       "age                         float64\n",
       "anaemia                       int64\n",
       "creatinine_phosphokinase      int64\n",
       "diabetes                      int64\n",
       "ejection_fraction             int64\n",
       "high_blood_pressure           int64\n",
       "platelets                   float64\n",
       "serum_creatinine            float64\n",
       "serum_sodium                  int64\n",
       "sex                           int64\n",
       "smoking                       int64\n",
       "time                          int64\n",
       "DEATH_EVENT                   int64\n",
       "dtype: object"
      ]
     },
     "execution_count": 6,
     "metadata": {},
     "output_type": "execute_result"
    }
   ],
   "source": [
    "df.dtypes #Checking they types of variables for each feature- 3 floats and 10 ints."
   ]
  },
  {
   "cell_type": "code",
   "execution_count": 7,
   "id": "aa715bae",
   "metadata": {
    "scrolled": false
   },
   "outputs": [
    {
     "data": {
      "text/html": [
       "<div>\n",
       "<style scoped>\n",
       "    .dataframe tbody tr th:only-of-type {\n",
       "        vertical-align: middle;\n",
       "    }\n",
       "\n",
       "    .dataframe tbody tr th {\n",
       "        vertical-align: top;\n",
       "    }\n",
       "\n",
       "    .dataframe thead th {\n",
       "        text-align: right;\n",
       "    }\n",
       "</style>\n",
       "<table border=\"1\" class=\"dataframe\">\n",
       "  <thead>\n",
       "    <tr style=\"text-align: right;\">\n",
       "      <th></th>\n",
       "      <th>age</th>\n",
       "      <th>anaemia</th>\n",
       "      <th>creatinine_phosphokinase</th>\n",
       "      <th>diabetes</th>\n",
       "      <th>ejection_fraction</th>\n",
       "      <th>high_blood_pressure</th>\n",
       "      <th>platelets</th>\n",
       "      <th>serum_creatinine</th>\n",
       "      <th>serum_sodium</th>\n",
       "      <th>sex</th>\n",
       "      <th>smoking</th>\n",
       "      <th>time</th>\n",
       "      <th>DEATH_EVENT</th>\n",
       "    </tr>\n",
       "  </thead>\n",
       "  <tbody>\n",
       "    <tr>\n",
       "      <th>count</th>\n",
       "      <td>299.000000</td>\n",
       "      <td>299.000000</td>\n",
       "      <td>299.000000</td>\n",
       "      <td>299.000000</td>\n",
       "      <td>299.000000</td>\n",
       "      <td>299.000000</td>\n",
       "      <td>299.000000</td>\n",
       "      <td>299.00000</td>\n",
       "      <td>299.000000</td>\n",
       "      <td>299.000000</td>\n",
       "      <td>299.00000</td>\n",
       "      <td>299.000000</td>\n",
       "      <td>299.00000</td>\n",
       "    </tr>\n",
       "    <tr>\n",
       "      <th>mean</th>\n",
       "      <td>60.833893</td>\n",
       "      <td>0.431438</td>\n",
       "      <td>581.839465</td>\n",
       "      <td>0.418060</td>\n",
       "      <td>38.083612</td>\n",
       "      <td>0.351171</td>\n",
       "      <td>263358.029264</td>\n",
       "      <td>1.39388</td>\n",
       "      <td>136.625418</td>\n",
       "      <td>0.648829</td>\n",
       "      <td>0.32107</td>\n",
       "      <td>130.260870</td>\n",
       "      <td>0.32107</td>\n",
       "    </tr>\n",
       "    <tr>\n",
       "      <th>std</th>\n",
       "      <td>11.894809</td>\n",
       "      <td>0.496107</td>\n",
       "      <td>970.287881</td>\n",
       "      <td>0.494067</td>\n",
       "      <td>11.834841</td>\n",
       "      <td>0.478136</td>\n",
       "      <td>97804.236869</td>\n",
       "      <td>1.03451</td>\n",
       "      <td>4.412477</td>\n",
       "      <td>0.478136</td>\n",
       "      <td>0.46767</td>\n",
       "      <td>77.614208</td>\n",
       "      <td>0.46767</td>\n",
       "    </tr>\n",
       "    <tr>\n",
       "      <th>min</th>\n",
       "      <td>40.000000</td>\n",
       "      <td>0.000000</td>\n",
       "      <td>23.000000</td>\n",
       "      <td>0.000000</td>\n",
       "      <td>14.000000</td>\n",
       "      <td>0.000000</td>\n",
       "      <td>25100.000000</td>\n",
       "      <td>0.50000</td>\n",
       "      <td>113.000000</td>\n",
       "      <td>0.000000</td>\n",
       "      <td>0.00000</td>\n",
       "      <td>4.000000</td>\n",
       "      <td>0.00000</td>\n",
       "    </tr>\n",
       "    <tr>\n",
       "      <th>25%</th>\n",
       "      <td>51.000000</td>\n",
       "      <td>0.000000</td>\n",
       "      <td>116.500000</td>\n",
       "      <td>0.000000</td>\n",
       "      <td>30.000000</td>\n",
       "      <td>0.000000</td>\n",
       "      <td>212500.000000</td>\n",
       "      <td>0.90000</td>\n",
       "      <td>134.000000</td>\n",
       "      <td>0.000000</td>\n",
       "      <td>0.00000</td>\n",
       "      <td>73.000000</td>\n",
       "      <td>0.00000</td>\n",
       "    </tr>\n",
       "    <tr>\n",
       "      <th>50%</th>\n",
       "      <td>60.000000</td>\n",
       "      <td>0.000000</td>\n",
       "      <td>250.000000</td>\n",
       "      <td>0.000000</td>\n",
       "      <td>38.000000</td>\n",
       "      <td>0.000000</td>\n",
       "      <td>262000.000000</td>\n",
       "      <td>1.10000</td>\n",
       "      <td>137.000000</td>\n",
       "      <td>1.000000</td>\n",
       "      <td>0.00000</td>\n",
       "      <td>115.000000</td>\n",
       "      <td>0.00000</td>\n",
       "    </tr>\n",
       "    <tr>\n",
       "      <th>75%</th>\n",
       "      <td>70.000000</td>\n",
       "      <td>1.000000</td>\n",
       "      <td>582.000000</td>\n",
       "      <td>1.000000</td>\n",
       "      <td>45.000000</td>\n",
       "      <td>1.000000</td>\n",
       "      <td>303500.000000</td>\n",
       "      <td>1.40000</td>\n",
       "      <td>140.000000</td>\n",
       "      <td>1.000000</td>\n",
       "      <td>1.00000</td>\n",
       "      <td>203.000000</td>\n",
       "      <td>1.00000</td>\n",
       "    </tr>\n",
       "    <tr>\n",
       "      <th>max</th>\n",
       "      <td>95.000000</td>\n",
       "      <td>1.000000</td>\n",
       "      <td>7861.000000</td>\n",
       "      <td>1.000000</td>\n",
       "      <td>80.000000</td>\n",
       "      <td>1.000000</td>\n",
       "      <td>850000.000000</td>\n",
       "      <td>9.40000</td>\n",
       "      <td>148.000000</td>\n",
       "      <td>1.000000</td>\n",
       "      <td>1.00000</td>\n",
       "      <td>285.000000</td>\n",
       "      <td>1.00000</td>\n",
       "    </tr>\n",
       "  </tbody>\n",
       "</table>\n",
       "</div>"
      ],
      "text/plain": [
       "              age     anaemia  creatinine_phosphokinase    diabetes  \\\n",
       "count  299.000000  299.000000                299.000000  299.000000   \n",
       "mean    60.833893    0.431438                581.839465    0.418060   \n",
       "std     11.894809    0.496107                970.287881    0.494067   \n",
       "min     40.000000    0.000000                 23.000000    0.000000   \n",
       "25%     51.000000    0.000000                116.500000    0.000000   \n",
       "50%     60.000000    0.000000                250.000000    0.000000   \n",
       "75%     70.000000    1.000000                582.000000    1.000000   \n",
       "max     95.000000    1.000000               7861.000000    1.000000   \n",
       "\n",
       "       ejection_fraction  high_blood_pressure      platelets  \\\n",
       "count         299.000000           299.000000     299.000000   \n",
       "mean           38.083612             0.351171  263358.029264   \n",
       "std            11.834841             0.478136   97804.236869   \n",
       "min            14.000000             0.000000   25100.000000   \n",
       "25%            30.000000             0.000000  212500.000000   \n",
       "50%            38.000000             0.000000  262000.000000   \n",
       "75%            45.000000             1.000000  303500.000000   \n",
       "max            80.000000             1.000000  850000.000000   \n",
       "\n",
       "       serum_creatinine  serum_sodium         sex    smoking        time  \\\n",
       "count         299.00000    299.000000  299.000000  299.00000  299.000000   \n",
       "mean            1.39388    136.625418    0.648829    0.32107  130.260870   \n",
       "std             1.03451      4.412477    0.478136    0.46767   77.614208   \n",
       "min             0.50000    113.000000    0.000000    0.00000    4.000000   \n",
       "25%             0.90000    134.000000    0.000000    0.00000   73.000000   \n",
       "50%             1.10000    137.000000    1.000000    0.00000  115.000000   \n",
       "75%             1.40000    140.000000    1.000000    1.00000  203.000000   \n",
       "max             9.40000    148.000000    1.000000    1.00000  285.000000   \n",
       "\n",
       "       DEATH_EVENT  \n",
       "count    299.00000  \n",
       "mean       0.32107  \n",
       "std        0.46767  \n",
       "min        0.00000  \n",
       "25%        0.00000  \n",
       "50%        0.00000  \n",
       "75%        1.00000  \n",
       "max        1.00000  "
      ]
     },
     "execution_count": 7,
     "metadata": {},
     "output_type": "execute_result"
    }
   ],
   "source": [
    "df.describe() #Checking to see if all of the features are present here before moving on."
   ]
  },
  {
   "cell_type": "markdown",
   "id": "824a18b6",
   "metadata": {},
   "source": [
    "### B. Splitting Data\n",
    "\n",
    "- List of the features in the **Invasive** dataset would be: Anaemia, Creatinine Phosphokinase (CPK), Ejection Fraction, Platelets, Serum Creatinine, Serum Sodium.\n",
    "- List of the features in the **Non-Invasive** dataset would be: Age, High BP, Diabetes, Sex, Smoking, Time.\n",
    "- The Target Feature is: Death Event.\n",
    "- I will be conducting a 70-30 datasplit, there are a lot of features for the model in the set to be trained with so I want to have a higher number in the testing set."
   ]
  },
  {
   "cell_type": "markdown",
   "id": "5b4a4a78",
   "metadata": {},
   "source": [
    "### 1. Invasive:\n",
    "\n",
    "**Interesting fact:** In this particular situation this Invasive dataset/model could also answer the research question of *How effective is a patient's blood work detail when it comes to developing a prediction model for heart failure?.* This is because all of the features presented here are read and collected through blood work."
   ]
  },
  {
   "cell_type": "code",
   "execution_count": 74,
   "id": "5002e510",
   "metadata": {},
   "outputs": [],
   "source": [
    "#Feature Selection: All of the invasive features present in the invasive dataset.\n",
    "invasive_df = df[['anaemia', 'creatinine_phosphokinase', 'ejection_fraction', 'platelets', 'serum_creatinine', 'serum_sodium']].copy()\n",
    "inv_target = df[['DEATH_EVENT']].copy()"
   ]
  },
  {
   "cell_type": "code",
   "execution_count": 75,
   "id": "652fecac",
   "metadata": {},
   "outputs": [],
   "source": [
    "#Splitting Data\n",
    "inv_train, inv_test, inv_target_train, inv_target_test = train_test_split(invasive_df, inv_target, test_size=0.30, random_state=55)"
   ]
  },
  {
   "cell_type": "markdown",
   "id": "b65e0923",
   "metadata": {},
   "source": [
    "# C. Model Training\n",
    "\n",
    "- For classification purposes, I wanted to run all three types of kernels for this dataset. However because \"implementations explicitly store this as an NxN matrix\" this would be a 6 X 6 dimensional model making runtime longer and complicated. Therefore, I will not be using the polynomial and RBF kernel for classification purpose.\n",
    "\n",
    "- Source/Online Explanation: https://ai.stackexchange.com/questions/7202/why-does-training-an-svm-take-so-long-how-can-i-speed-it-up"
   ]
  },
  {
   "cell_type": "markdown",
   "id": "080df9d1",
   "metadata": {},
   "source": [
    "###### Classification"
   ]
  },
  {
   "cell_type": "code",
   "execution_count": 77,
   "id": "24a525b1",
   "metadata": {},
   "outputs": [
    {
     "data": {
      "text/plain": [
       "SVC(C=1, gamma=0.5, kernel='linear')"
      ]
     },
     "execution_count": 77,
     "metadata": {},
     "output_type": "execute_result"
    }
   ],
   "source": [
    "#Linear Kernel SVM- Classification\n",
    "svc1 = svm.SVC(kernel='linear', C=1,gamma= 0.5)\n",
    "svc1.fit(inv_train, inv_target_train)"
   ]
  },
  {
   "cell_type": "code",
   "execution_count": 78,
   "id": "d23abafe",
   "metadata": {},
   "outputs": [
    {
     "name": "stdout",
     "output_type": "stream",
     "text": [
      "Accuracy Score for the Linear Kernel SVM (svc1) is 0.700000\n"
     ]
    }
   ],
   "source": [
    "#Accuracy\n",
    "print(f'Accuracy Score for the Linear Kernel SVM (svc1) is {svc1.score(inv_test, inv_target_test):f}')"
   ]
  },
  {
   "cell_type": "code",
   "execution_count": 79,
   "id": "24f70421",
   "metadata": {},
   "outputs": [],
   "source": [
    "#Logistic Regression- Classification\n",
    "LR1 =  LogisticRegressionCV(random_state=0, solver='lbfgs',cv=5)\n",
    "LR1 = LR1.fit(inv_train,np.ravel(inv_target_train.values)) "
   ]
  },
  {
   "cell_type": "code",
   "execution_count": 80,
   "id": "b9b90351",
   "metadata": {},
   "outputs": [
    {
     "name": "stdout",
     "output_type": "stream",
     "text": [
      "Accuracy Score of the LR model for the Invasive Features is 0.722222\n"
     ]
    }
   ],
   "source": [
    "#Accuracy\n",
    "print(f'Accuracy Score of the LR model for the Invasive Features is {LR1.score(inv_test,inv_target_test):f}')"
   ]
  },
  {
   "cell_type": "markdown",
   "id": "45bc3ffd",
   "metadata": {},
   "source": [
    "###### Regression"
   ]
  },
  {
   "cell_type": "code",
   "execution_count": 93,
   "id": "ce915e01",
   "metadata": {},
   "outputs": [],
   "source": [
    "#Linear Kernel SVM- Regression\n",
    "svr_lin = SVR(kernel='linear', C=100, gamma='auto')"
   ]
  },
  {
   "cell_type": "code",
   "execution_count": 94,
   "id": "2e7a62ef",
   "metadata": {},
   "outputs": [],
   "source": [
    "inv_FOlin = svr_lin.fit(inv_train, inv_target_train).predict(inv_test)"
   ]
  },
  {
   "cell_type": "code",
   "execution_count": 95,
   "id": "7735278c",
   "metadata": {
    "collapsed": true
   },
   "outputs": [
    {
     "data": {
      "text/plain": [
       "array([ 254759.65827405, -278869.2206322 ,  -66321.98235095,\n",
       "       -844878.64055408, -477196.7909447 ,  157555.24421155,\n",
       "       -133124.71672595,  272003.34675061, -421158.08830798,\n",
       "       -389787.97160877, -402459.33391345,  -69770.62297595,\n",
       "       -349772.6112572 , -161526.33391345,  -82218.60637439,\n",
       "       -325430.34953845, -414731.02824939, -235510.5331322 ,\n",
       "       -216455.13078845, -473682.6815697 , -495593.95989002,\n",
       "        -19041.69328845, -318639.49797595, -362856.40422595,\n",
       "       -402438.59953845,  -57358.70110095,  -37426.15324939,\n",
       "       -213874.28508533, -195090.46672595, -628833.24016345,\n",
       "       -246218.48235095,  -10136.19328845, -279670.44328845,\n",
       "        225273.88483655,  -15352.05266345, -156243.64641345,\n",
       "       -145777.32512439,  159177.11139905, -284688.34660877,\n",
       "        227708.13483655,  115310.48639905, -375292.9393822 ,\n",
       "       -230028.71672595,   44300.8887428 , -352774.91252673,\n",
       "        -43219.61516345, -463481.56047595, -301013.0878197 ,\n",
       "       -151111.6034447 , -154457.63078845, -395151.71574939,\n",
       "       -318731.06828845, -423983.8925072 , -279514.8143822 ,\n",
       "        220757.53620373, -670366.41252673,   64709.32233655,\n",
       "       -337951.9784447 ,   73551.93952405, -267768.5096947 ,\n",
       "         33842.60456311,  -76326.2128197 ,  281467.92389905,\n",
       "       -214008.30705798, -181919.63860095,  -60615.87981189,\n",
       "       -466308.11418689,  -57106.61516345, -288375.01360095,\n",
       "       -290606.20207752, -754267.4471947 , -564161.24797595,\n",
       "       -111200.40422595, -299754.8065697 ,  259523.90046155,\n",
       "        247298.08991467,  -54291.17668689,  -41085.67668689,\n",
       "          4191.8262428 ,  150098.36921155, -179617.40422595,\n",
       "        400209.67389905,  -59398.81731189,  100199.51764905,\n",
       "        -89507.95891345, -542276.42766345,   29916.28327405,\n",
       "       -112017.10832752,    1258.21393811,   99430.5293678 ])"
      ]
     },
     "execution_count": 95,
     "metadata": {},
     "output_type": "execute_result"
    }
   ],
   "source": [
    "inv_FOlin #Really Bad Predictions."
   ]
  },
  {
   "cell_type": "code",
   "execution_count": 96,
   "id": "e77ad84c",
   "metadata": {},
   "outputs": [
    {
     "name": "stdout",
     "output_type": "stream",
     "text": [
      "SVR- Linear Kernel\n",
      "Coefficients for the Model is: [[-7.93127055e+01  7.39486637e+01 -1.44842034e+04  2.34545395e+00\n",
      "  -1.18377611e+03  3.54836370e+03]]\n",
      "Mean squared error for the Model is: 90114056708.17\n",
      "R-square for the Model is: -438656165465.43 \n",
      "\n"
     ]
    }
   ],
   "source": [
    "# Running some analysis on the Linear Kernel SVM- the other 2 kernels are not compatable for this \n",
    "print(\"SVR- Linear Kernel\")\n",
    "print('Coefficients for the Model is: {}'.format(svr_lin.coef_)) #\n",
    "print(\"Mean squared error for the Model is: %.2f\"% mean_squared_error(inv_target_test, inv_FOlin))\n",
    "print('R-square for the Model is: %.2f \\n' % r2_score(inv_target_test, inv_FOlin))\n",
    "\n",
    "#These are very bad values of MSE and R-squared, cannot compare with other Kernel types because they are not compatable."
   ]
  },
  {
   "cell_type": "markdown",
   "id": "bb87360e",
   "metadata": {},
   "source": [
    "# (*)\n",
    "- Because the analysis resulted in bad values, I will be performing scaling to see if that has any improvements.\n",
    "- There are 2 types of scaling and using this I can compare which one will be the best for analysis."
   ]
  },
  {
   "cell_type": "code",
   "execution_count": 122,
   "id": "56b7bf19",
   "metadata": {},
   "outputs": [],
   "source": [
    "inv_FOlin1 = inv_FOlin.reshape(-1, 1) #Reshaping necessary for scaling"
   ]
  },
  {
   "cell_type": "code",
   "execution_count": 136,
   "id": "96285c63",
   "metadata": {},
   "outputs": [
    {
     "name": "stdout",
     "output_type": "stream",
     "text": [
      "SVR- Linear Kernel\n",
      "Coefficients for the Model is: [[-7.93127055e+01  7.39486637e+01 -1.44842034e+04  2.34545395e+00\n",
      "  -1.18377611e+03  3.54836370e+03]]\n",
      "Mean squared error for the Model is: 0.28\n",
      "R-square for the Model is: -0.38 \n",
      "\n"
     ]
    }
   ],
   "source": [
    "# MinMax Scaler- values scaled first and then analyzed.\n",
    "from sklearn.preprocessing import MinMaxScaler\n",
    "scaler = MinMaxScaler()\n",
    "inv_mmscaled= scaler.fit_transform(inv_FOlin1)\n",
    "print(\"SVR- Linear Kernel\")\n",
    "print('Coefficients for the Model is: {}'.format(svr_lin.coef_)) #\n",
    "print(\"Mean squared error for the Model is: %.2f\"% mean_squared_error(inv_target_test, inv_mmscaled))\n",
    "print('R-square for the Model is: %.2f \\n' % r2_score(inv_target_test, inv_mmscaled))"
   ]
  },
  {
   "cell_type": "code",
   "execution_count": 135,
   "id": "fae62899",
   "metadata": {},
   "outputs": [
    {
     "name": "stdout",
     "output_type": "stream",
     "text": [
      "SVR- Linear Kernel- StandardScaled\n",
      "Coefficients for the Model is: [[-7.93127055e+01  7.39486637e+01 -1.44842034e+04  2.34545395e+00\n",
      "  -1.18377611e+03  3.54836370e+03]]\n",
      "Mean squared error for the Model is: 1.15\n",
      "R-square for the Model is: -4.58 \n",
      "\n"
     ]
    }
   ],
   "source": [
    "# Standard Scaler- values scaled first and then analyzed.\n",
    "from sklearn.preprocessing import StandardScaler\n",
    "scaler = StandardScaler()\n",
    "inv_sscaled= scaler.fit_transform(inv_FOlin1)\n",
    "print(\"SVR- Linear Kernel- StandardScaled\")\n",
    "print('Coefficients for the Model is: {}'.format(svr_lin.coef_)) #\n",
    "print(\"Mean squared error for the Model is: %.2f\"% mean_squared_error(inv_target_test, inv_sscaled))\n",
    "print('R-square for the Model is: %.2f \\n' % r2_score(inv_target_test, inv_sscaled))"
   ]
  },
  {
   "cell_type": "markdown",
   "id": "8c3a3261",
   "metadata": {},
   "source": [
    "- From looking at the analysis after the two scaling methods, it is clear that the MinMax scaling is ideal in comparison. However this does not mean the model is performing well. \n",
    "- SVM in general is used to dictate prediction models to fit in continuous spaces. In this case the target variable is not continuous, however the prediction model and then the scaled values are continuous hence the bad model performance."
   ]
  },
  {
   "cell_type": "code",
   "execution_count": null,
   "id": "70c1b839",
   "metadata": {},
   "outputs": [],
   "source": []
  },
  {
   "cell_type": "code",
   "execution_count": 25,
   "id": "8705d14f",
   "metadata": {},
   "outputs": [
    {
     "data": {
      "text/plain": [
       "LinearRegression()"
      ]
     },
     "execution_count": 25,
     "metadata": {},
     "output_type": "execute_result"
    }
   ],
   "source": [
    "#Linear Regression\n",
    "LinR1 = linear_model.LinearRegression() \n",
    "LinR1.fit(inv_train, inv_target_train) #Fitting it to the trainings\n",
    "LinR1"
   ]
  },
  {
   "cell_type": "code",
   "execution_count": 26,
   "id": "8ccb90ad",
   "metadata": {
    "collapsed": true
   },
   "outputs": [
    {
     "data": {
      "text/plain": [
       "array([ 0.22336123,  0.22752947,  0.36043579,  0.24218315,  0.15221861,\n",
       "        0.92702138,  0.5278146 ,  0.43143275,  0.25317659, -0.09036654,\n",
       "        0.08122538,  0.31071505, -0.03957541,  0.171856  ,  0.31912229,\n",
       "        0.24153479,  0.0368415 ,  0.17014603,  0.26229329,  0.35670341,\n",
       "        0.17393847,  0.14671524,  0.11522316,  0.25695542,  0.12253053,\n",
       "        0.10986305,  0.29238432,  0.5342844 ,  0.17769649,  0.00417002,\n",
       "        0.16937825, -0.02428376,  0.35471903,  0.5831268 ,  0.31377355,\n",
       "        0.36351239,  0.29578434,  0.18617424,  0.16478214,  0.1759465 ,\n",
       "        0.1535532 ,  0.11015841,  0.28030532,  0.38737674,  0.25109581,\n",
       "        0.1704136 ,  0.00691298,  0.24202431,  0.22194949,  0.18806067,\n",
       "       -0.02368234,  0.38950835,  0.30286833,  0.38631327,  0.57887421,\n",
       "       -0.01913975,  0.10461903,  0.32198739,  0.288632  ,  0.98966014,\n",
       "        0.38066864,  0.3268916 ,  0.38536414,  0.43260549,  0.30275364,\n",
       "        0.22734558,  0.03791466,  0.26977061,  0.34926562,  0.07306291,\n",
       "       -0.08341274, -0.03830787,  0.0793103 ,  0.27952674,  0.24787076,\n",
       "        0.05869522,  0.46470969,  0.3021514 ,  0.29935188,  0.58998376,\n",
       "        0.21645331,  0.54316727,  0.28009135,  0.3377807 ,  0.3844362 ,\n",
       "       -0.07774042,  0.39000204,  0.37285645,  0.28041998,  0.71558958])"
      ]
     },
     "execution_count": 26,
     "metadata": {},
     "output_type": "execute_result"
    }
   ],
   "source": [
    "pred1=LinR1.predict(inv_test) #prediction function\n",
    "pred1"
   ]
  },
  {
   "cell_type": "code",
   "execution_count": 27,
   "id": "995f4793",
   "metadata": {},
   "outputs": [
    {
     "name": "stdout",
     "output_type": "stream",
     "text": [
      "Coefficients for the Model is: [ 8.37446162e-02  5.10746238e-05 -1.08310177e-02 -1.23719082e-07\n",
      "  1.30583778e-01 -1.11458547e-02]\n",
      "Mean squared error for the Model is: 0.19\n",
      "R-square for the Model is: 0.06 \n",
      "\n"
     ]
    }
   ],
   "source": [
    "print('Coefficients for the Model is: {}'.format(LinR1.coef_)) #\n",
    "print(\"Mean squared error for the Model is: %.2f\"% mean_squared_error(inv_target_test, pred1))\n",
    "print('R-square for the Model is: %.2f \\n' % r2_score(inv_target_test, pred1))"
   ]
  },
  {
   "cell_type": "code",
   "execution_count": 28,
   "id": "bb4cd0b2",
   "metadata": {},
   "outputs": [
    {
     "name": "stdout",
     "output_type": "stream",
     "text": [
      "Accuracy Score of the Linear Regression is 0.061128\n"
     ]
    }
   ],
   "source": [
    "print(f'Accuracy Score of the Linear Regression is {LinR1.score(inv_test, inv_target_test):f}')"
   ]
  },
  {
   "cell_type": "code",
   "execution_count": 29,
   "id": "241c4b66",
   "metadata": {},
   "outputs": [],
   "source": [
    "#Ridge Regression\n",
    "RidR1=linear_model.RidgeCV()"
   ]
  },
  {
   "cell_type": "code",
   "execution_count": 30,
   "id": "8f36b364",
   "metadata": {},
   "outputs": [
    {
     "data": {
      "text/plain": [
       "RidgeCV(alphas=array([ 0.1,  1. , 10. ]))"
      ]
     },
     "execution_count": 30,
     "metadata": {},
     "output_type": "execute_result"
    }
   ],
   "source": [
    "RidR1.fit(inv_train,inv_target_train) #fitting"
   ]
  },
  {
   "cell_type": "code",
   "execution_count": 31,
   "id": "f0701155",
   "metadata": {
    "collapsed": true
   },
   "outputs": [
    {
     "data": {
      "text/plain": [
       "array([ 2.29545842e-01,  2.23643233e-01,  3.67092532e-01,  2.36637964e-01,\n",
       "        1.61791399e-01,  9.14124039e-01,  5.20100093e-01,  4.36542845e-01,\n",
       "        2.58294368e-01, -8.34267098e-02,  7.51749550e-02,  3.15878723e-01,\n",
       "       -3.14889818e-02,  1.66277421e-01,  3.14604457e-01,  2.32495760e-01,\n",
       "        4.44756674e-02,  1.77317937e-01,  2.56216313e-01,  3.49076442e-01,\n",
       "        1.80312815e-01,  1.40260184e-01,  1.22426614e-01,  2.52109929e-01,\n",
       "        1.15057215e-01,  1.03007052e-01,  2.99208492e-01,  5.40312645e-01,\n",
       "        1.86262182e-01, -1.92039196e-04,  1.76551044e-01, -1.51821356e-02,\n",
       "        3.49000608e-01,  5.83958204e-01,  3.21340391e-01,  3.67837906e-01,\n",
       "        2.89950417e-01,  1.80182066e-01,  1.67545591e-01,  1.83800478e-01,\n",
       "        1.61251508e-01,  1.20512922e-01,  2.88292852e-01,  3.81940801e-01,\n",
       "        2.59833367e-01,  1.78490385e-01,  1.41777554e-02,  2.36624266e-01,\n",
       "        2.30082728e-01,  1.95936731e-01, -2.81456084e-02,  3.84694688e-01,\n",
       "        2.98309676e-01,  3.95883685e-01,  5.77932269e-01, -2.43891243e-02,\n",
       "        1.13314427e-01,  3.17700492e-01,  2.72393809e-01,  9.60891225e-01,\n",
       "        3.74185307e-01,  3.34610497e-01,  3.89783706e-01,  4.24336659e-01,\n",
       "        2.96744457e-01,  2.34293498e-01,  3.23130427e-02,  2.64595018e-01,\n",
       "        3.53594855e-01,  6.60712901e-02, -7.38241317e-02, -3.18533485e-02,\n",
       "        8.76367314e-02,  2.87435766e-01,  2.41333205e-01,  6.51413468e-02,\n",
       "        4.70068919e-01,  2.95564990e-01,  3.08123641e-01,  5.93351118e-01,\n",
       "        2.12527341e-01,  5.32033529e-01,  2.86035422e-01,  3.45927693e-01,\n",
       "        3.77396914e-01, -6.84062773e-02,  3.97229275e-01,  3.65848117e-01,\n",
       "        2.88677636e-01,  7.19301138e-01])"
      ]
     },
     "execution_count": 31,
     "metadata": {},
     "output_type": "execute_result"
    }
   ],
   "source": [
    "R_pred1=RidR1.predict(inv_test)\n",
    "R_pred1"
   ]
  },
  {
   "cell_type": "code",
   "execution_count": 32,
   "id": "4868e89f",
   "metadata": {},
   "outputs": [
    {
     "name": "stdout",
     "output_type": "stream",
     "text": [
      "Coefficients for the Model is: [ 6.99356630e-02  4.97005923e-05 -1.08248859e-02 -1.29686669e-07\n",
      "  1.26186890e-01 -1.11637275e-02]\n",
      "Mean squared error for the Model is: 0.19\n",
      "R-square for the Model is: 0.06 \n",
      "\n"
     ]
    }
   ],
   "source": [
    "print('Coefficients for the Model is: {}'.format(RidR1.coef_)) #\n",
    "print(\"Mean squared error for the Model is: %.2f\"% mean_squared_error(inv_target_test, R_pred1))\n",
    "print('R-square for the Model is: %.2f \\n' % r2_score(inv_target_test, R_pred1))"
   ]
  },
  {
   "cell_type": "code",
   "execution_count": 33,
   "id": "acc620b4",
   "metadata": {},
   "outputs": [
    {
     "name": "stdout",
     "output_type": "stream",
     "text": [
      "Accuracy Score of the Ridge Regression is 0.063376\n"
     ]
    }
   ],
   "source": [
    "print(f'Accuracy Score of the Ridge Regression is {RidR1.score(inv_test,inv_target_test):f}')"
   ]
  },
  {
   "cell_type": "markdown",
   "id": "bb36ac45",
   "metadata": {},
   "source": [
    "### 2. Non-Invasive:"
   ]
  },
  {
   "cell_type": "code",
   "execution_count": 137,
   "id": "dc5d825c",
   "metadata": {},
   "outputs": [],
   "source": [
    "#Feature Selection: All of the invasive features present in the invasive dataset.\n",
    "noninvasive_df = df[['age', 'high_blood_pressure', 'diabetes', 'sex', 'smoking', 'time']].copy()\n",
    "noninv_target = df.DEATH_EVENT"
   ]
  },
  {
   "cell_type": "code",
   "execution_count": 138,
   "id": "6245d52d",
   "metadata": {},
   "outputs": [],
   "source": [
    "noninv_train, noninv_test, noninv_target_train, noninv_target_test = train_test_split(noninvasive_df, noninv_target, test_size=0.30, random_state=55)"
   ]
  },
  {
   "cell_type": "markdown",
   "id": "f0798fd4",
   "metadata": {},
   "source": [
    "#### Model Training\n",
    "\n",
    "- Similar to the previous classification model, I will only be using Linear kernel classification for this Non-Invasive training."
   ]
  },
  {
   "cell_type": "code",
   "execution_count": 139,
   "id": "c025d42b",
   "metadata": {},
   "outputs": [
    {
     "data": {
      "text/plain": [
       "SVC(C=1, gamma=0.5, kernel='linear')"
      ]
     },
     "execution_count": 139,
     "metadata": {},
     "output_type": "execute_result"
    }
   ],
   "source": [
    "#Linear kernel- Classification\n",
    "svc2 = svm.SVC(kernel='linear', C=1,gamma= 0.5)\n",
    "svc2.fit(noninv_train, noninv_target_train)"
   ]
  },
  {
   "cell_type": "code",
   "execution_count": 140,
   "id": "860bc101",
   "metadata": {},
   "outputs": [
    {
     "name": "stdout",
     "output_type": "stream",
     "text": [
      "Accuracy Score for the Linear Kernel SVM (svc2) is 0.844444\n"
     ]
    }
   ],
   "source": [
    "print(f'Accuracy Score for the Linear Kernel SVM (svc2) is {svc2.score(noninv_test, noninv_target_test):f}')"
   ]
  },
  {
   "cell_type": "code",
   "execution_count": 141,
   "id": "f9f8f252",
   "metadata": {},
   "outputs": [],
   "source": [
    "#Logistic Regression (with the basic solver and crossvalidation)\n",
    "LR2 =  LogisticRegressionCV(random_state=0, solver='lbfgs',cv=5)\n",
    "LR2 = LR2.fit(noninv_train,np.ravel(noninv_target_train.values)) "
   ]
  },
  {
   "cell_type": "code",
   "execution_count": 142,
   "id": "c37929c7",
   "metadata": {},
   "outputs": [
    {
     "name": "stdout",
     "output_type": "stream",
     "text": [
      "Accuracy Score of the LR model for the Non-Invasive Features is 0.833333\n"
     ]
    }
   ],
   "source": [
    "print(f'Accuracy Score of the LR model for the Non-Invasive Features is {LR2.score(noninv_test,noninv_target_test):f}')"
   ]
  },
  {
   "cell_type": "code",
   "execution_count": null,
   "id": "2a657083",
   "metadata": {},
   "outputs": [],
   "source": []
  },
  {
   "cell_type": "markdown",
   "id": "c71bc774",
   "metadata": {},
   "source": [
    "###### Regression"
   ]
  },
  {
   "cell_type": "code",
   "execution_count": 143,
   "id": "e8bbd968",
   "metadata": {},
   "outputs": [],
   "source": [
    "#Linear Kernel SVM- Regression\n",
    "svr_lin = SVR(kernel='linear', C=100, gamma='auto')"
   ]
  },
  {
   "cell_type": "code",
   "execution_count": 144,
   "id": "1d803f6d",
   "metadata": {},
   "outputs": [],
   "source": [
    "noninv_FOlin = svr_lin.fit(noninv_train, noninv_target_train).predict(noninv_test)"
   ]
  },
  {
   "cell_type": "code",
   "execution_count": 145,
   "id": "ef0f905c",
   "metadata": {
    "collapsed": true
   },
   "outputs": [
    {
     "data": {
      "text/plain": [
       "array([-0.00602545,  0.5950876 ,  0.14648968,  0.91022057,  0.27637985,\n",
       "        0.93930484,  0.12356853, -0.04715618,  0.95768591,  0.42751828,\n",
       "        0.34543208,  0.04143149,  0.14045145,  0.85027744,  0.10893186,\n",
       "        0.26418422,  0.67930443,  0.85930407,  0.18634253, -0.06771015,\n",
       "        0.31345863,  0.15759107,  0.57561446,  1.05752744,  0.2519264 ,\n",
       "        0.83324443,  0.49799243, -0.01189773, -0.00185198,  0.62683339,\n",
       "        0.58110325,  0.40617108,  0.33062894,  0.74431863,  0.69343046,\n",
       "        1.03987686,  0.64136242,  0.17856566,  0.53003442, -0.16919292,\n",
       "       -0.13106525, -0.2705326 ,  0.42221015,  0.65819441,  0.43860226,\n",
       "       -0.08449974,  0.3956854 ,  0.64043702,  0.53056715,  0.46253404,\n",
       "        0.60353359, -0.01555208,  0.6317913 , -0.06875995,  0.73951569,\n",
       "        0.34664284,  0.38169462, -0.08014015,  0.7208444 ,  0.46139939,\n",
       "        0.7349078 ,  0.29100812,  0.25339045, -0.02010903,  0.20970104,\n",
       "        0.04355365, -0.06975576,  0.78460262, -0.34974894,  0.60674486,\n",
       "        0.00909925,  0.85284781,  0.53414007,  0.02119094,  0.37157592,\n",
       "       -0.10617115, -0.15090517, -0.09795135,  0.76930277, -0.12318674,\n",
       "        0.26896146,  0.88798779, -0.06999576,  0.4459558 ,  0.40147835,\n",
       "        0.44057195,  0.35597987,  0.34413129,  0.40624231,  0.44233561])"
      ]
     },
     "execution_count": 145,
     "metadata": {},
     "output_type": "execute_result"
    }
   ],
   "source": [
    "noninv_FOlin #Continuous Values."
   ]
  },
  {
   "cell_type": "code",
   "execution_count": 146,
   "id": "08d45b57",
   "metadata": {},
   "outputs": [
    {
     "name": "stdout",
     "output_type": "stream",
     "text": [
      "SVR- Linear Kernel\n",
      "Coefficients for the Model is: [[ 0.00856981 -0.00184805  0.07923323 -0.0774783   0.02149074 -0.0036119 ]]\n",
      "Mean squared error for the Model is: 0.18\n",
      "R-square for the Model is: 0.14 \n",
      "\n"
     ]
    }
   ],
   "source": [
    "# Running some analysis on the Linear Kernel SVM- the other 2 kernels are not compatable for this \n",
    "print(\"SVR- Linear Kernel\")\n",
    "print('Coefficients for the Model is: {}'.format(svr_lin.coef_)) #\n",
    "print(\"Mean squared error for the Model is: %.2f\"% mean_squared_error(noninv_target_test, noninv_FOlin))\n",
    "print('R-square for the Model is: %.2f \\n' % r2_score(noninv_target_test, noninv_FOlin))\n",
    "\n",
    "#These are very bad values of MSE and R-squared, cannot compare with other Kernel types because they are not compatable."
   ]
  },
  {
   "cell_type": "code",
   "execution_count": 147,
   "id": "6dbc238c",
   "metadata": {},
   "outputs": [],
   "source": [
    "noninv_FOlin1 = noninv_FOlin.reshape(-1, 1) #Reshaping necessary for scaling"
   ]
  },
  {
   "cell_type": "code",
   "execution_count": 148,
   "id": "17e71915",
   "metadata": {},
   "outputs": [
    {
     "name": "stdout",
     "output_type": "stream",
     "text": [
      "SVR- Linear Kernel- MinMaxScaled\n",
      "Coefficients for the Model is: [[ 0.00856981 -0.00184805  0.07923323 -0.0774783   0.02149074 -0.0036119 ]]\n",
      "Mean squared error for the Model is: 0.20\n",
      "R-square for the Model is: 0.01 \n",
      "\n"
     ]
    }
   ],
   "source": [
    "# MinMax Scaler- values scaled first and then analyzed.\n",
    "# Not performing Standard Scaler because it does not yield better scaled scores.\n",
    "from sklearn.preprocessing import MinMaxScaler\n",
    "scaler = MinMaxScaler()\n",
    "noninv_mmscaled= scaler.fit_transform(noninv_FOlin1)\n",
    "print(\"SVR- Linear Kernel- MinMaxScaled\")\n",
    "print('Coefficients for the Model is: {}'.format(svr_lin.coef_)) #\n",
    "print(\"Mean squared error for the Model is: %.2f\"% mean_squared_error(noninv_target_test, noninv_mmscaled))\n",
    "print('R-square for the Model is: %.2f \\n' % r2_score(noninv_target_test, noninv_mmscaled))"
   ]
  },
  {
   "cell_type": "markdown",
   "id": "7be4df2a",
   "metadata": {},
   "source": [
    "- Both target variables and the features are categorical which might be the explaination to the better model performance for the Non-Invasive models."
   ]
  },
  {
   "cell_type": "code",
   "execution_count": null,
   "id": "94460594",
   "metadata": {},
   "outputs": [],
   "source": []
  },
  {
   "cell_type": "code",
   "execution_count": 150,
   "id": "cd38330a",
   "metadata": {},
   "outputs": [
    {
     "data": {
      "text/plain": [
       "LinearRegression()"
      ]
     },
     "execution_count": 150,
     "metadata": {},
     "output_type": "execute_result"
    }
   ],
   "source": [
    "#Linear Regression\n",
    "LinR2 = linear_model.LinearRegression() \n",
    "LinR2.fit(noninv_train, noninv_target_train) #Fitting it to the trainings\n",
    "LinR2"
   ]
  },
  {
   "cell_type": "code",
   "execution_count": 151,
   "id": "87320a3d",
   "metadata": {
    "collapsed": true
   },
   "outputs": [
    {
     "data": {
      "text/plain": [
       "array([-0.03444669,  0.55719169,  0.06042937,  0.84286641,  0.24063361,\n",
       "        0.82692506,  0.0620359 ,  0.01462381,  0.7828007 ,  0.34854551,\n",
       "        0.29762034, -0.00394861,  0.09499252,  0.68678894,  0.09154121,\n",
       "        0.24941302,  0.57090646,  0.673093  ,  0.1181505 , -0.06981826,\n",
       "        0.21321622,  0.10585575,  0.52061122,  0.87854314,  0.24673312,\n",
       "        0.71825124,  0.45819288,  0.03038274, -0.05669974,  0.49008136,\n",
       "        0.50869328,  0.45068098,  0.21239398,  0.63194427,  0.64554972,\n",
       "        0.82720938,  0.6306181 ,  0.10989398,  0.47480421, -0.14244643,\n",
       "       -0.16616717, -0.16110788,  0.40795797,  0.58507019,  0.42718888,\n",
       "       -0.08198087,  0.43920863,  0.55156462,  0.50968767,  0.3793144 ,\n",
       "        0.49336104, -0.07863137,  0.49212199,  0.01525375,  0.67758003,\n",
       "        0.25431822,  0.40651712, -0.14711127,  0.63207625,  0.41647381,\n",
       "        0.67424003,  0.30169209,  0.26039779, -0.00346683,  0.14194511,\n",
       "       -0.01404042, -0.04484897,  0.67071971, -0.29064626,  0.56416597,\n",
       "       -0.01029964,  0.80828707,  0.491729  ,  0.02226769,  0.33950824,\n",
       "       -0.10232681, -0.20736481, -0.09559582,  0.67203991, -0.10408149,\n",
       "        0.20395913,  0.78801079, -0.08028424,  0.40296084,  0.39942837,\n",
       "        0.34820858,  0.25710678,  0.36466718,  0.33244296,  0.36653472])"
      ]
     },
     "execution_count": 151,
     "metadata": {},
     "output_type": "execute_result"
    }
   ],
   "source": [
    "pred2=LinR2.predict(noninv_test) #prediction function\n",
    "pred2"
   ]
  },
  {
   "cell_type": "code",
   "execution_count": 152,
   "id": "fbb823a3",
   "metadata": {},
   "outputs": [
    {
     "name": "stdout",
     "output_type": "stream",
     "text": [
      "Coefficients for the Model is: [ 0.00543162 -0.04521857  0.011856   -0.04758517 -0.02714858 -0.00339099]\n",
      "Mean squared error for the Model is: 0.17\n",
      "R-square for the Model is: 0.20 \n",
      "\n"
     ]
    }
   ],
   "source": [
    "print('Coefficients for the Model is: {}'.format(LinR2.coef_)) #\n",
    "print(\"Mean squared error for the Model is: %.2f\"% mean_squared_error(noninv_target_test, pred2))\n",
    "print('R-square for the Model is: %.2f \\n' % r2_score(noninv_target_test, pred2))"
   ]
  },
  {
   "cell_type": "code",
   "execution_count": 153,
   "id": "ab677dcb",
   "metadata": {},
   "outputs": [
    {
     "name": "stdout",
     "output_type": "stream",
     "text": [
      "Accuracy Score of the Linear Regression is 0.196001\n"
     ]
    }
   ],
   "source": [
    "print(f'Accuracy Score of the Linear Regression is {LinR2.score(noninv_test, noninv_target_test):f}')"
   ]
  },
  {
   "cell_type": "code",
   "execution_count": 154,
   "id": "005bf9b2",
   "metadata": {},
   "outputs": [],
   "source": [
    "#Ridge Regression\n",
    "RidR2=linear_model.RidgeCV()"
   ]
  },
  {
   "cell_type": "code",
   "execution_count": 155,
   "id": "1fefe0f3",
   "metadata": {},
   "outputs": [
    {
     "data": {
      "text/plain": [
       "RidgeCV(alphas=array([ 0.1,  1. , 10. ]))"
      ]
     },
     "execution_count": 155,
     "metadata": {},
     "output_type": "execute_result"
    }
   ],
   "source": [
    "RidR2.fit(noninv_train,noninv_target_train) #fitting"
   ]
  },
  {
   "cell_type": "code",
   "execution_count": 156,
   "id": "fba520d6",
   "metadata": {
    "collapsed": true
   },
   "outputs": [
    {
     "data": {
      "text/plain": [
       "array([-0.04281966,  0.55781864,  0.06167448,  0.8390617 ,  0.25296438,\n",
       "        0.81446689,  0.06352925,  0.01592308,  0.78017249,  0.35956991,\n",
       "        0.30952267, -0.00459999,  0.1043956 ,  0.68432181,  0.10163434,\n",
       "        0.24829505,  0.56978813,  0.68135002,  0.11874032, -0.06926201,\n",
       "        0.20251034,  0.11508056,  0.52090946,  0.8746357 ,  0.23764819,\n",
       "        0.71723128,  0.45900869,  0.04207071, -0.04655601,  0.48873089,\n",
       "        0.51645918,  0.45052515,  0.21249658,  0.6305844 ,  0.63448067,\n",
       "        0.83142008,  0.6395925 ,  0.09959193,  0.47486193, -0.13893139,\n",
       "       -0.16314601, -0.15823386,  0.4095137 ,  0.58477514,  0.43663012,\n",
       "       -0.08948933,  0.43085008,  0.54033144,  0.51084081,  0.3686276 ,\n",
       "        0.50085448, -0.07649775,  0.4906958 ,  0.01709164,  0.67490797,\n",
       "        0.26524203,  0.40902552, -0.14490957,  0.62004591,  0.41483505,\n",
       "        0.6634007 ,  0.31196818,  0.26039129,  0.00767869,  0.13219768,\n",
       "       -0.02317055, -0.03340441,  0.68013093, -0.28564947,  0.55341898,\n",
       "        0.00302418,  0.7969122 ,  0.49205794,  0.01386814,  0.34079373,\n",
       "       -0.10975475, -0.19386482, -0.09486991,  0.68185175, -0.10049942,\n",
       "        0.20476644,  0.78354385, -0.07747274,  0.39319507,  0.39887167,\n",
       "        0.35647936,  0.25757356,  0.35592721,  0.33238766,  0.36695833])"
      ]
     },
     "execution_count": 156,
     "metadata": {},
     "output_type": "execute_result"
    }
   ],
   "source": [
    "R_pred2=RidR2.predict(noninv_test)\n",
    "R_pred2"
   ]
  },
  {
   "cell_type": "code",
   "execution_count": 157,
   "id": "93b24cad",
   "metadata": {},
   "outputs": [
    {
     "name": "stdout",
     "output_type": "stream",
     "text": [
      "Coefficients for the Model is: [ 0.00534248 -0.03526495  0.01079954 -0.03853997 -0.02522809 -0.00337757]\n",
      "Mean squared error for the Model is: 0.16\n",
      "R-square for the Model is: 0.20 \n",
      "\n"
     ]
    }
   ],
   "source": [
    "print('Coefficients for the Model is: {}'.format(RidR2.coef_)) #\n",
    "print(\"Mean squared error for the Model is: %.2f\"% mean_squared_error(noninv_target_test, R_pred2))\n",
    "print('R-square for the Model is: %.2f \\n' % r2_score(noninv_target_test, R_pred2))"
   ]
  },
  {
   "cell_type": "code",
   "execution_count": 158,
   "id": "01e7711b",
   "metadata": {},
   "outputs": [
    {
     "name": "stdout",
     "output_type": "stream",
     "text": [
      "Accuracy Score of the Ridge Regression is 0.198865\n"
     ]
    }
   ],
   "source": [
    "print(f'Accuracy Score of the Ridge Regression is {RidR2.score(noninv_test,noninv_target_test):f}')"
   ]
  },
  {
   "cell_type": "markdown",
   "id": "eaee9160",
   "metadata": {},
   "source": [
    "# D. Discussion:"
   ]
  },
  {
   "cell_type": "markdown",
   "id": "53bbbb11",
   "metadata": {},
   "source": [
    "When it comes to looking into these regressions it is difficult to find one that performs well, it is either very poor or average. Let's dive into each below.\n",
    "***\n",
    "###### Classification models:\n",
    "- INVASIVE Linear SVM: The accuracy score here was 0.7. This is not a perfect score of 1.0, but it is still an average score. \n",
    "- INVASIVE Logistic Regression: The accuracy score here was similar (slightly higher) 0.72. Once again this is not perfect but still an average score. I believe with more observations for training it will perform better.\n",
    "- NON-INVASIVE Linear SVM: The accuracy score here was 0.84. This is not a perfect score of 1.0, but it is a good score. \n",
    "- NON-INVASIVE Logistic Regression: The accuracy score here was similar 0.83. Once again this is not perfect but still good. More observations will improve the score.\n",
    "In terms of visualization it is difficult with classification models that has more than two features.\n",
    "***\n",
    "###### The Regression models\n",
    "This is where things get complicated. Just as I hypothesized the Non-Invasive models did perform better than the Invasive model. Strikingly, the invasive models were very poor in predicting.\n",
    "\n",
    "###### Let's Begin with the INVASIVE:\n",
    "- INVASIVE Linear SVM regression: the values for this model were well-off. The MSE was 90114056708.17 and the R-square was -438656165465.43. \n",
    "    - This raised a flag for me, so I decided to take the predicted values and scale them to see if that would help the scores. There are two methods to scale the StandardScaler and the MinMaxScaler. When the analysis was run with the newly scaled predictions, we achieved better MSE and R-square values, but it does not mean the model is performing well.\n",
    "- INVASIVE Linear SVM regression **MinMaxScaler**: MSE: 0.28 and R-square: -0.38. Both scores are significantly lower now. The MSE is near 0 which is considered to be a good predictor model, but that is not the case. The R-squared is a negative value which signifies negative correlation.\n",
    "- INVASIVE Linear SVM regression **StandardScaler**: MSE: 1.15 and R-square: -4.58. Similarly these are also better than the original SVM analysis. \n",
    "    - When comparing between the MinMax and this Standard model it is clear the MinMax is better, with a lower MSE value and a better R-squared in terms of negative correlation. \n",
    "\n",
    "\n",
    "Now Moving on to the last two regression models. These models similar to the SVM regression tell a similar story but with an Accuracy score to remove any doubt of model performance.\n",
    "- INVASIVE Linear Regression: MSE: 0.19, which is close to 0 and that is good but can only be confirmed when compared. R-squared: 0.06 which is a value very far away from a perfect 1.0. Finally a terrible accuracy score of 0.061128. This shows that using the invasive features was not good enough for model development.\n",
    "- INVASIVE Ridge Regression: MSE: 0.19, R-squared: 0.06, and Accuracy score: 0.063376. These are all similar to the previous values of Linear Regression.\n",
    "\n",
    "Overall, for the INVASIVE regression models there was nothing positive to report, all of the models performed poorly. This is perhaps due to the nature of the target variable, it is not a continuous feature- it is categorical. These regression models perhaps work better with a more fluid target. On the other hand the NON INVASIVE data models somehow reported better values from their training. Perhaps due to the entire dataset and target bring categorical types.\n",
    "***\n",
    "###### Let's look at NON INVASIVE:\n",
    "- NON INVASIVE Linear SVM regression: MSE: 0.18, this is good but can only be confirmed when compared. R-squared is 0.14 which is close to 0 and is not good. Although these MSE and R-squared values are acceptable, I still ran a MinMaxScalar on the prediction values to see the effect on the scores.\n",
    "- NON INVASIVE Linear SVM regression **MinMaxScaler**: MSE: 0.2 and R-squared: 0.01. Surprisingly with a slightly higher MSE value and lower R-squared the scaling did not help in this situation. (Only performed MinMaxScaler here since it is better.)\n",
    "\n",
    "It is interesting to see the model identify enough patterns in this non-numerical dataset and perform better in predicting heart failure. Now the last two regression models tell a similar story but with the Accuracy score.\n",
    "\n",
    "- NON INVASIVE Linear Regression: MSE: 0.17, which is good and close to 0. R-squared: 0.20 which is still low and not close to 1.0. Finally an accuracy score of 0.196001. This is not an amazing accuracy score but I believe it can improve with more observations. \n",
    "- NON INVASIVE Ridge Regression: MSE: 0.16, R-squared: 0.20, and Accuracy score: 0.198865. These are all similar to the previous values of Linear Regression.\n",
    "\n",
    "When it comes to the NON INVASIVE regression there was a significant improvement in every score when compared to the INVASIVEs. Because of the nature of the dataset (categorical) I believe with enough observations the NON INVASIVE parameter can be highly accurate in prediction of heart failure. \n",
    "***\n",
    "###### Conclusion\n",
    "- For the classification both model types performed similarly for Invasive and Non Invasive. Invasive had a slightly better score with Logistic Regression and Non Invasive had a slightly better score with Linear SVM.\n",
    "- When it comes to the best INVASIVE regression model it would have to be the **Ridge Regression** because overall it had better scoring for MSE, R-squared, and Accuracy. \n",
    "- When it comes to the best NON INVASIVE regression model it would also be the **Ridge Regression** because of the better scoring.\n",
    "- My Hypothesis: Correct."
   ]
  },
  {
   "cell_type": "markdown",
   "id": "93e8b8e9",
   "metadata": {},
   "source": [
    "# Please move on to Notebook 2 for the 2 feature comparisons."
   ]
  },
  {
   "cell_type": "code",
   "execution_count": null,
   "id": "a15d5878",
   "metadata": {},
   "outputs": [],
   "source": []
  },
  {
   "cell_type": "code",
   "execution_count": null,
   "id": "2fb14d0b",
   "metadata": {},
   "outputs": [],
   "source": []
  },
  {
   "cell_type": "markdown",
   "id": "8b40380e",
   "metadata": {},
   "source": [
    "Reference:\n",
    "\n",
    "Chicco, D., Jurman, G. Machine learning can predict survival of patients with heart failure from serum creatinine and ejection fraction alone. BMC Med Inform Decis Mak 20, 16 (2020). https://doi.org/10.1186/s12911-020-1023-5"
   ]
  }
 ],
 "metadata": {
  "kernelspec": {
   "display_name": "Python 3 (ipykernel)",
   "language": "python",
   "name": "python3"
  },
  "language_info": {
   "codemirror_mode": {
    "name": "ipython",
    "version": 3
   },
   "file_extension": ".py",
   "mimetype": "text/x-python",
   "name": "python",
   "nbconvert_exporter": "python",
   "pygments_lexer": "ipython3",
   "version": "3.11.5"
  }
 },
 "nbformat": 4,
 "nbformat_minor": 5
}
